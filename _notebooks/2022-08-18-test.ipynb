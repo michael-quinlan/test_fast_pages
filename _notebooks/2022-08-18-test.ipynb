{
 "cells": [
  {
   "cell_type": "code",
   "execution_count": 6,
   "id": "cc58c4f2",
   "metadata": {},
   "outputs": [],
   "source": [
    "#hide\n",
    "import sports.yahoo_fantasy.basketball as yahoo_basketball\n"
   ]
  },
  {
   "cell_type": "code",
   "execution_count": 7,
   "id": "6ff2eef4",
   "metadata": {},
   "outputs": [
    {
     "name": "stderr",
     "output_type": "stream",
     "text": [
      "[2022-08-18 22:39:03,959 DEBUG] [yahoo_oauth.oauth.__init__] Checking \n",
      "[2022-08-18 22:39:03,973 DEBUG] [yahoo_oauth.oauth.token_is_valid] ELAPSED TIME : 124.6709372997284\n",
      "[2022-08-18 22:39:03,974 DEBUG] [yahoo_oauth.oauth.token_is_valid] TOKEN IS STILL VALID\n",
      "[2022-08-18 22:39:03,987 DEBUG] [yahoo_oauth.oauth.token_is_valid] ELAPSED TIME : 124.68433976173401\n",
      "[2022-08-18 22:39:03,988 DEBUG] [yahoo_oauth.oauth.token_is_valid] TOKEN IS STILL VALID\n"
     ]
    }
   ],
   "source": [
    "#hide\n",
    "basketball = yahoo_basketball.Basketball(league_id=\"410.l.22889\")\n"
   ]
  },
  {
   "cell_type": "code",
   "execution_count": 8,
   "id": "9bcde34b",
   "metadata": {},
   "outputs": [
    {
     "data": {
      "text/plain": [
       "[Team(key='410.l.22889.t.1', name='bigesser'),\n",
       " Team(key='410.l.22889.t.2', name=\"______Manny's Super Team\"),\n",
       " Team(key='410.l.22889.t.3', name=\"allen's Unrivaled Team\"),\n",
       " Team(key='410.l.22889.t.4', name=\"Andy's Team\"),\n",
       " Team(key='410.l.22889.t.5', name=\"Charles's Team\"),\n",
       " Team(key='410.l.22889.t.6', name='Double Sabonis'),\n",
       " Team(key='410.l.22889.t.7', name='Explodo Heado'),\n",
       " Team(key='410.l.22889.t.8', name='Flushing Noodles'),\n",
       " Team(key='410.l.22889.t.10', name='Ick Poo Dung'),\n",
       " Team(key='410.l.22889.t.11', name=\"Jake's Team\"),\n",
       " Team(key='410.l.22889.t.13', name=\"Ryan's Pleasant Team\"),\n",
       " Team(key='410.l.22889.t.15', name='simple jack')]"
      ]
     },
     "execution_count": 8,
     "metadata": {},
     "output_type": "execute_result"
    }
   ],
   "source": [
    "#hide_input\n",
    "basketball.teams()"
   ]
  },
  {
   "cell_type": "code",
   "execution_count": null,
   "id": "79c11351",
   "metadata": {},
   "outputs": [],
   "source": []
  },
  {
   "cell_type": "code",
   "execution_count": null,
   "id": "1a822213",
   "metadata": {},
   "outputs": [],
   "source": []
  }
 ],
 "metadata": {
  "kernelspec": {
   "display_name": "Python 3",
   "language": "python",
   "name": "python3"
  },
  "language_info": {
   "codemirror_mode": {
    "name": "ipython",
    "version": 3
   },
   "file_extension": ".py",
   "mimetype": "text/x-python",
   "name": "python",
   "nbconvert_exporter": "python",
   "pygments_lexer": "ipython3",
   "version": "3.9.2"
  }
 },
 "nbformat": 4,
 "nbformat_minor": 5
}
